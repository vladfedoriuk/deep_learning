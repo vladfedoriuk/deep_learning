{
  "nbformat": 4,
  "nbformat_minor": 0,
  "metadata": {
    "accelerator": "GPU",
    "colab": {
      "name": "CIFAR10_Fedoriuk_Vladyslav.ipynb",
      "provenance": [],
      "collapsed_sections": []
    },
    "kernelspec": {
      "display_name": "Python 3",
      "language": "python",
      "name": "python3"
    },
    "language_info": {
      "codemirror_mode": {
        "name": "ipython",
        "version": 3
      },
      "file_extension": ".py",
      "mimetype": "text/x-python",
      "name": "python",
      "nbconvert_exporter": "python",
      "pygments_lexer": "ipython3",
      "version": "3.8.5"
    }
  },
  "cells": [
    {
      "cell_type": "code",
      "metadata": {
        "id": "Djq5H5QSK6hc",
        "colab": {
          "base_uri": "https://localhost:8080/",
          "height": 35
        },
        "outputId": "a576c7a4-9c1e-4689-d6ab-f5fa32ff286b"
      },
      "source": [
        "import keras\n",
        "keras.__version__"
      ],
      "execution_count": 1,
      "outputs": [
        {
          "output_type": "execute_result",
          "data": {
            "application/vnd.google.colaboratory.intrinsic+json": {
              "type": "string"
            },
            "text/plain": [
              "'2.4.3'"
            ]
          },
          "metadata": {
            "tags": []
          },
          "execution_count": 1
        }
      ]
    },
    {
      "cell_type": "code",
      "metadata": {
        "id": "cLjbWVSwLRAM",
        "colab": {
          "base_uri": "https://localhost:8080/"
        },
        "outputId": "ef897aa2-1cce-4b3f-a78a-311da5fdb8b2"
      },
      "source": [
        "from keras import layers\n",
        "from keras import models\n",
        "from keras.datasets import cifar10\n",
        "from keras.utils import to_categorical\n",
        "from keras.layers.normalization import BatchNormalization\n",
        "\n",
        "\n",
        "(train_images, train_labels), (test_images, test_labels) = cifar10.load_data()\n",
        "train_images.shape"
      ],
      "execution_count": 2,
      "outputs": [
        {
          "output_type": "stream",
          "text": [
            "Downloading data from https://www.cs.toronto.edu/~kriz/cifar-10-python.tar.gz\n",
            "170500096/170498071 [==============================] - 2s 0us/step\n"
          ],
          "name": "stdout"
        },
        {
          "output_type": "execute_result",
          "data": {
            "text/plain": [
              "(50000, 32, 32, 3)"
            ]
          },
          "metadata": {
            "tags": []
          },
          "execution_count": 2
        }
      ]
    },
    {
      "cell_type": "code",
      "metadata": {
        "id": "f1l1_b4FLnAx",
        "colab": {
          "base_uri": "https://localhost:8080/",
          "height": 266
        },
        "outputId": "3ddb4629-8dde-41d1-d797-ea37b2a280b4"
      },
      "source": [
        "import matplotlib.pyplot as plt\n",
        "%matplotlib inline\n",
        "\n",
        "digit = train_images[4]\n",
        "plt.imshow(digit, cmap=plt.cm.binary)\n",
        "\n",
        "plt.show()"
      ],
      "execution_count": 3,
      "outputs": [
        {
          "output_type": "display_data",
          "data": {
            "image/png": "[encoded data removed]",
            "text/plain": [
              "<Figure size 432x288 with 1 Axes>"
            ]
          },
          "metadata": {
            "tags": [],
            "needs_background": "light"
          }
        }
      ]
    },
    {
      "cell_type": "code",
      "metadata": {
        "id": "76yjbnbJLjsk",
        "colab": {
          "base_uri": "https://localhost:8080/"
        },
        "outputId": "b70aedca-70fc-4b3a-e14d-965a94b14722"
      },
      "source": [
        "# MODIFY THE CODE TO ADD A VALIDATION SET\n",
        "from keras.preprocessing.image import ImageDataGenerator\n",
        "train_images = train_images\n",
        "train_labels = train_labels\n",
        "\n",
        "train_images = train_images.reshape((50000, 32, 32, 3))\n",
        "train_images = train_images.astype('float32') / 255\n",
        "\n",
        "test_images = test_images.reshape((10000, 32, 32, 3))\n",
        "test_images = test_images.astype('float32') / 255\n",
        "\n",
        "train_labels = to_categorical(train_labels)\n",
        "test_labels = to_categorical(test_labels)\n",
        "\n",
        "val_images = train_images[:10000]\n",
        "val_labels = train_labels[:10000]\n",
        "\n",
        "train_images = train_images[10000:]\n",
        "train_labels = train_labels[10000:]\n",
        "\n",
        "train_datagen = ImageDataGenerator(\n",
        "    featurewise_center=True,\n",
        "    featurewise_std_normalization=True,\n",
        "    rotation_range=20,\n",
        "    width_shift_range=0.2,\n",
        "    height_shift_range=0.2,\n",
        "    horizontal_flip=True,\n",
        ")\n",
        "# compute quantities required for featurewise normalization\n",
        "# (std, mean, and principal components if ZCA whitening is applied)\n",
        "# train_datagen.fit(train_images)\n",
        "\n",
        "val_datagen = ImageDataGenerator(\n",
        "    featurewise_center=True,\n",
        "    featurewise_std_normalization=True,\n",
        "    rotation_range=20,\n",
        "    width_shift_range=0.2,\n",
        "    height_shift_range=0.2,\n",
        "    horizontal_flip=True,\n",
        ")\n",
        "# compute quantities required for featurewise normalization\n",
        "# (std, mean, and principal components if ZCA whitening is applied)\n",
        "val_datagen.fit(val_images)\n",
        "\n",
        "train_images.shape, val_images.shape, train_labels.shape, val_labels.shape\n"
      ],
      "execution_count": 4,
      "outputs": [
        {
          "output_type": "execute_result",
          "data": {
            "text/plain": [
              "((40000, 32, 32, 3), (10000, 32, 32, 3), (40000, 10), (10000, 10))"
            ]
          },
          "metadata": {
            "tags": []
          },
          "execution_count": 4
        }
      ]
    },
    {
      "cell_type": "code",
      "metadata": {
        "id": "rIJilTuvRnDY"
      },
      "source": [
        "  # MAKE WHATEVER CHANGES ARE NECESSARY\n",
        "  # TO GET 0.7 ACCURACY ON THE TEST SET\n",
        "  \n",
        "model = models.Sequential()\n",
        "model.add(layers.Conv2D(32, (3 ,3), activation='relu', input_shape=(32, 32, 3), padding='same'))\n",
        "model.add(layers.Conv2D(32, (3, 3), activation='relu', padding='same'))\n",
        "model.add(BatchNormalization())\n",
        "model.add(layers.MaxPooling2D((2, 2), strides=(2, 2)))\n",
        "model.add(layers.Dropout(0.25))\n",
        "\n",
        "model.add(layers.Conv2D(64, (3, 3), activation='relu', padding='same'))\n",
        "model.add(layers.Conv2D(64, (3, 3), activation='relu', padding='same'))\n",
        "model.add(BatchNormalization())\n",
        "model.add(layers.MaxPooling2D((2, 2), strides=(2, 2)))\n",
        "model.add(layers.Dropout(0.25))\n",
        "\n",
        "model.add(layers.Conv2D(128, (3, 3), activation='relu', padding='same'))\n",
        "model.add(layers.Conv2D(128, (3, 3), activation='relu', padding='same'))\n",
        "model.add(BatchNormalization())\n",
        "model.add(layers.MaxPooling2D((2, 2), strides=(2, 2)))\n",
        "model.add(layers.Dropout(0.25))\n",
        "\n",
        "model.add(layers.Conv2D(256, (3, 3), activation='relu', padding='same'))\n",
        "model.add(layers.Conv2D(256, (3, 3), activation='relu', padding='same'))\n",
        "model.add(BatchNormalization())\n",
        "model.add(layers.MaxPooling2D((2, 2), strides=(2, 2)))\n",
        "model.add(layers.Dropout(0.25))\n",
        "\n",
        "model.add(layers.Conv2D(512, (3, 3), activation='relu', padding='same'))\n",
        "model.add(layers.Conv2D(512, (3, 3), activation='relu', padding='same'))\n",
        "model.add(BatchNormalization())\n",
        "model.add(layers.MaxPooling2D((2, 2), strides=(2, 2)))\n",
        "model.add(layers.Dropout(0.25))\n",
        "\n",
        "model.add(layers.Flatten())\n",
        "#model.add(layers.Dense(1024, activation='relu'))\n",
        "#model.add(layers.Dropout(0.25))\n",
        "\n",
        "model.add(layers.Dense(32, activation='relu'))\n",
        "model.add(BatchNormalization())\n",
        "model.add(layers.Dropout(0.25))\n",
        "model.add(layers.Dense(64, activation='relu'))\n",
        "model.add(BatchNormalization())\n",
        "model.add(layers.Dropout(0.25))\n",
        "model.add(layers.Dense(64, activation='relu'))\n",
        "model.add(BatchNormalization())\n",
        "model.add(layers.Dropout(0.25))\n",
        "model.add(layers.Dense(32, activation='relu'))\n",
        "model.add(BatchNormalization())\n",
        "model.add(layers.Dropout(0.25))\n",
        "\n",
        "model.add(layers.Dense(10, activation='softmax'))\n",
        "\n",
        "model.compile(optimizer='adam',\n",
        "                  loss='categorical_crossentropy',\n",
        "                  metrics=['accuracy'])"
      ],
      "execution_count": 5,
      "outputs": []
    },
    {
      "cell_type": "code",
      "metadata": {
        "id": "Lr0xkEliYc-6",
        "colab": {
          "base_uri": "https://localhost:8080/"
        },
        "outputId": "a474094f-13b0-4a41-854b-226bf225177a"
      },
      "source": [
        "model.summary()"
      ],
      "execution_count": 6,
      "outputs": [
        {
          "output_type": "stream",
          "text": [
            "Model: \"sequential\"\n",
            "_________________________________________________________________\n",
            "Layer (type)                 Output Shape              Param #   \n",
            "=================================================================\n",
            "conv2d (Conv2D)              (None, 32, 32, 32)        896       \n",
            "_________________________________________________________________\n",
            "conv2d_1 (Conv2D)            (None, 32, 32, 32)        9248      \n",
            "_________________________________________________________________\n",
            "batch_normalization (BatchNo (None, 32, 32, 32)        128       \n",
            "_________________________________________________________________\n",
            "max_pooling2d (MaxPooling2D) (None, 16, 16, 32)        0         \n",
            "_________________________________________________________________\n",
            "dropout (Dropout)            (None, 16, 16, 32)        0         \n",
            "_________________________________________________________________\n",
            "conv2d_2 (Conv2D)            (None, 16, 16, 64)        18496     \n",
            "_________________________________________________________________\n",
            "conv2d_3 (Conv2D)            (None, 16, 16, 64)        36928     \n",
            "_________________________________________________________________\n",
            "batch_normalization_1 (Batch (None, 16, 16, 64)        256       \n",
            "_________________________________________________________________\n",
            "max_pooling2d_1 (MaxPooling2 (None, 8, 8, 64)          0         \n",
            "_________________________________________________________________\n",
            "dropout_1 (Dropout)          (None, 8, 8, 64)          0         \n",
            "_________________________________________________________________\n",
            "conv2d_4 (Conv2D)            (None, 8, 8, 128)         73856     \n",
            "_________________________________________________________________\n",
            "conv2d_5 (Conv2D)            (None, 8, 8, 128)         147584    \n",
            "_________________________________________________________________\n",
            "batch_normalization_2 (Batch (None, 8, 8, 128)         512       \n",
            "_________________________________________________________________\n",
            "max_pooling2d_2 (MaxPooling2 (None, 4, 4, 128)         0         \n",
            "_________________________________________________________________\n",
            "dropout_2 (Dropout)          (None, 4, 4, 128)         0         \n",
            "_________________________________________________________________\n",
            "conv2d_6 (Conv2D)            (None, 4, 4, 256)         295168    \n",
            "_________________________________________________________________\n",
            "conv2d_7 (Conv2D)            (None, 4, 4, 256)         590080    \n",
            "_________________________________________________________________\n",
            "batch_normalization_3 (Batch (None, 4, 4, 256)         1024      \n",
            "_________________________________________________________________\n",
            "max_pooling2d_3 (MaxPooling2 (None, 2, 2, 256)         0         \n",
            "_________________________________________________________________\n",
            "dropout_3 (Dropout)          (None, 2, 2, 256)         0         \n",
            "_________________________________________________________________\n",
            "conv2d_8 (Conv2D)            (None, 2, 2, 512)         1180160   \n",
            "_________________________________________________________________\n",
            "conv2d_9 (Conv2D)            (None, 2, 2, 512)         2359808   \n",
            "_________________________________________________________________\n",
            "batch_normalization_4 (Batch (None, 2, 2, 512)         2048      \n",
            "_________________________________________________________________\n",
            "max_pooling2d_4 (MaxPooling2 (None, 1, 1, 512)         0         \n",
            "_________________________________________________________________\n",
            "dropout_4 (Dropout)          (None, 1, 1, 512)         0         \n",
            "_________________________________________________________________\n",
            "flatten (Flatten)            (None, 512)               0         \n",
            "_________________________________________________________________\n",
            "dropout_5 (Dropout)          (None, 512)               0         \n",
            "_________________________________________________________________\n",
            "dense (Dense)                (None, 32)                16416     \n",
            "_________________________________________________________________\n",
            "batch_normalization_5 (Batch (None, 32)                128       \n",
            "_________________________________________________________________\n",
            "dropout_6 (Dropout)          (None, 32)                0         \n",
            "_________________________________________________________________\n",
            "dense_1 (Dense)              (None, 64)                2112      \n",
            "_________________________________________________________________\n",
            "batch_normalization_6 (Batch (None, 64)                256       \n",
            "_________________________________________________________________\n",
            "dropout_7 (Dropout)          (None, 64)                0         \n",
            "_________________________________________________________________\n",
            "dense_2 (Dense)              (None, 32)                2080      \n",
            "_________________________________________________________________\n",
            "batch_normalization_7 (Batch (None, 32)                128       \n",
            "_________________________________________________________________\n",
            "dropout_8 (Dropout)          (None, 32)                0         \n",
            "_________________________________________________________________\n",
            "dense_3 (Dense)              (None, 10)                330       \n",
            "=================================================================\n",
            "Total params: 4,737,642\n",
            "Trainable params: 4,735,402\n",
            "Non-trainable params: 2,240\n",
            "_________________________________________________________________\n"
          ],
          "name": "stdout"
        }
      ]
    },
    {
      "cell_type": "code",
      "metadata": {
        "id": "RUGKT6LNSJag"
      },
      "source": [
        "from tensorflow.keras.callbacks import EarlyStopping\n",
        "\n",
        "early_stop = EarlyStopping(monitor='val_loss', patience=0.35)"
      ],
      "execution_count": 7,
      "outputs": []
    },
    {
      "cell_type": "code",
      "metadata": {
        "colab": {
          "base_uri": "https://localhost:8080/"
        },
        "id": "pdgz18QPNOVr",
        "outputId": "39e91bc4-73c7-439b-bec0-bfd5667a1f0a"
      },
      "source": [
        "  # MAKE WHATEVER CHANGES ARE NECESSARY\n",
        "  # TO GET 0.7 ACCURACY ON THE TEST SET\n",
        "epochs = 170\n",
        "model_hist = model.fit(\n",
        "    train_datagen.flow(train_images, train_labels, batch_size=32), \n",
        "    steps_per_epoch=len(train_images) / 32, \n",
        "    epochs=epochs, \n",
        "    validation_data=(val_images, val_labels))"
      ],
      "execution_count": 8,
      "outputs": [
        {
          "output_type": "stream",
          "text": [
            "/usr/local/lib/python3.6/dist-packages/keras_preprocessing/image/image_data_generator.py:720: UserWarning: This ImageDataGenerator specifies `featurewise_center`, but it hasn't been fit on any training data. Fit it first by calling `.fit(numpy_data)`.\n",
            "  warnings.warn('This ImageDataGenerator specifies '\n",
            "/usr/local/lib/python3.6/dist-packages/keras_preprocessing/image/image_data_generator.py:728: UserWarning: This ImageDataGenerator specifies `featurewise_std_normalization`, but it hasn't been fit on any training data. Fit it first by calling `.fit(numpy_data)`.\n",
            "  warnings.warn('This ImageDataGenerator specifies '\n"
          ],
          "name": "stderr"
        },
        {
          "output_type": "stream",
          "text": [
            "Epoch 1/170\n",
            "1250/1250 [==============================] - 35s 21ms/step - loss: 2.3946 - accuracy: 0.1637 - val_loss: 1.8182 - val_accuracy: 0.2859\n",
            "Epoch 2/170\n",
            "1250/1250 [==============================] - 26s 21ms/step - loss: 1.8238 - accuracy: 0.2962 - val_loss: 1.6381 - val_accuracy: 0.3787\n",
            "Epoch 3/170\n",
            "1250/1250 [==============================] - 26s 21ms/step - loss: 1.6799 - accuracy: 0.3773 - val_loss: 1.7604 - val_accuracy: 0.3895\n",
            "Epoch 4/170\n",
            "1250/1250 [==============================] - 26s 21ms/step - loss: 1.5369 - accuracy: 0.4467 - val_loss: 1.2863 - val_accuracy: 0.5242\n",
            "Epoch 5/170\n",
            "1250/1250 [==============================] - 26s 21ms/step - loss: 1.4295 - accuracy: 0.4968 - val_loss: 1.1492 - val_accuracy: 0.5923\n",
            "Epoch 6/170\n",
            "1250/1250 [==============================] - 26s 21ms/step - loss: 1.3481 - accuracy: 0.5314 - val_loss: 1.4076 - val_accuracy: 0.5257\n",
            "Epoch 7/170\n",
            "1250/1250 [==============================] - 26s 21ms/step - loss: 1.2599 - accuracy: 0.5653 - val_loss: 1.0787 - val_accuracy: 0.6274\n",
            "Epoch 8/170\n",
            "1250/1250 [==============================] - 26s 21ms/step - loss: 1.2111 - accuracy: 0.5913 - val_loss: 1.0773 - val_accuracy: 0.6401\n",
            "Epoch 9/170\n",
            "1250/1250 [==============================] - 26s 21ms/step - loss: 1.1449 - accuracy: 0.6141 - val_loss: 0.9244 - val_accuracy: 0.6793\n",
            "Epoch 10/170\n",
            "1250/1250 [==============================] - 26s 21ms/step - loss: 1.1090 - accuracy: 0.6282 - val_loss: 0.8885 - val_accuracy: 0.6936\n",
            "Epoch 11/170\n",
            "1250/1250 [==============================] - 26s 21ms/step - loss: 1.0696 - accuracy: 0.6463 - val_loss: 0.8593 - val_accuracy: 0.7040\n",
            "Epoch 12/170\n",
            "1250/1250 [==============================] - 26s 21ms/step - loss: 1.0441 - accuracy: 0.6545 - val_loss: 0.8139 - val_accuracy: 0.7259\n",
            "Epoch 13/170\n",
            "1250/1250 [==============================] - 26s 21ms/step - loss: 1.0077 - accuracy: 0.6697 - val_loss: 0.8860 - val_accuracy: 0.6985\n",
            "Epoch 14/170\n",
            "1250/1250 [==============================] - 26s 21ms/step - loss: 0.9806 - accuracy: 0.6823 - val_loss: 0.8153 - val_accuracy: 0.7245\n",
            "Epoch 15/170\n",
            "1250/1250 [==============================] - 26s 21ms/step - loss: 0.9591 - accuracy: 0.6925 - val_loss: 0.7768 - val_accuracy: 0.7366\n",
            "Epoch 16/170\n",
            "1250/1250 [==============================] - 26s 21ms/step - loss: 0.9343 - accuracy: 0.6993 - val_loss: 0.9605 - val_accuracy: 0.6861\n",
            "Epoch 17/170\n",
            "1250/1250 [==============================] - 26s 21ms/step - loss: 0.9203 - accuracy: 0.7078 - val_loss: 0.7330 - val_accuracy: 0.7563\n",
            "Epoch 18/170\n",
            "1250/1250 [==============================] - 26s 21ms/step - loss: 0.8936 - accuracy: 0.7127 - val_loss: 0.9469 - val_accuracy: 0.7023\n",
            "Epoch 19/170\n",
            "1250/1250 [==============================] - 26s 21ms/step - loss: 0.8693 - accuracy: 0.7212 - val_loss: 0.7780 - val_accuracy: 0.7454\n",
            "Epoch 20/170\n",
            "1250/1250 [==============================] - 26s 21ms/step - loss: 0.8521 - accuracy: 0.7274 - val_loss: 0.8340 - val_accuracy: 0.7291\n",
            "Epoch 21/170\n",
            "1250/1250 [==============================] - 26s 21ms/step - loss: 0.8378 - accuracy: 0.7326 - val_loss: 0.7382 - val_accuracy: 0.7556\n",
            "Epoch 22/170\n",
            "1250/1250 [==============================] - 26s 21ms/step - loss: 0.8459 - accuracy: 0.7332 - val_loss: 0.6872 - val_accuracy: 0.7772\n",
            "Epoch 23/170\n",
            "1250/1250 [==============================] - 26s 21ms/step - loss: 0.8105 - accuracy: 0.7420 - val_loss: 0.5775 - val_accuracy: 0.8102\n",
            "Epoch 24/170\n",
            "1250/1250 [==============================] - 26s 21ms/step - loss: 0.7860 - accuracy: 0.7473 - val_loss: 0.6911 - val_accuracy: 0.7762\n",
            "Epoch 25/170\n",
            "1250/1250 [==============================] - 26s 21ms/step - loss: 0.7778 - accuracy: 0.7500 - val_loss: 0.6460 - val_accuracy: 0.7914\n",
            "Epoch 26/170\n",
            "1250/1250 [==============================] - 26s 21ms/step - loss: 0.7568 - accuracy: 0.7604 - val_loss: 0.6010 - val_accuracy: 0.7984\n",
            "Epoch 27/170\n",
            "1250/1250 [==============================] - 26s 21ms/step - loss: 0.7579 - accuracy: 0.7616 - val_loss: 0.5655 - val_accuracy: 0.8113\n",
            "Epoch 28/170\n",
            "1250/1250 [==============================] - 26s 21ms/step - loss: 0.7564 - accuracy: 0.7617 - val_loss: 0.5837 - val_accuracy: 0.8103\n",
            "Epoch 29/170\n",
            "1250/1250 [==============================] - 26s 21ms/step - loss: 0.7355 - accuracy: 0.7683 - val_loss: 0.5613 - val_accuracy: 0.8145\n",
            "Epoch 30/170\n",
            "1250/1250 [==============================] - 26s 21ms/step - loss: 0.7334 - accuracy: 0.7678 - val_loss: 0.7079 - val_accuracy: 0.7740\n",
            "Epoch 31/170\n",
            "1250/1250 [==============================] - 26s 21ms/step - loss: 0.7370 - accuracy: 0.7661 - val_loss: 0.6179 - val_accuracy: 0.7982\n",
            "Epoch 32/170\n",
            "1250/1250 [==============================] - 26s 21ms/step - loss: 0.7212 - accuracy: 0.7698 - val_loss: 0.5278 - val_accuracy: 0.8217\n",
            "Epoch 33/170\n",
            "1250/1250 [==============================] - 26s 21ms/step - loss: 0.7083 - accuracy: 0.7782 - val_loss: 0.5099 - val_accuracy: 0.8274\n",
            "Epoch 34/170\n",
            "1250/1250 [==============================] - 26s 20ms/step - loss: 0.7102 - accuracy: 0.7739 - val_loss: 0.6692 - val_accuracy: 0.7840\n",
            "Epoch 35/170\n",
            "1250/1250 [==============================] - 26s 21ms/step - loss: 0.6795 - accuracy: 0.7829 - val_loss: 0.5959 - val_accuracy: 0.8053\n",
            "Epoch 36/170\n",
            "1250/1250 [==============================] - 26s 21ms/step - loss: 0.6879 - accuracy: 0.7826 - val_loss: 0.5154 - val_accuracy: 0.8285\n",
            "Epoch 37/170\n",
            "1250/1250 [==============================] - 26s 21ms/step - loss: 0.6801 - accuracy: 0.7861 - val_loss: 0.5215 - val_accuracy: 0.8263\n",
            "Epoch 38/170\n",
            "1250/1250 [==============================] - 26s 21ms/step - loss: 0.6727 - accuracy: 0.7887 - val_loss: 0.4790 - val_accuracy: 0.8393\n",
            "Epoch 39/170\n",
            "1250/1250 [==============================] - 26s 21ms/step - loss: 0.6600 - accuracy: 0.7909 - val_loss: 0.4814 - val_accuracy: 0.8366\n",
            "Epoch 40/170\n",
            "1250/1250 [==============================] - 26s 21ms/step - loss: 0.6603 - accuracy: 0.7920 - val_loss: 0.5442 - val_accuracy: 0.8211\n",
            "Epoch 41/170\n",
            "1250/1250 [==============================] - 26s 21ms/step - loss: 0.6520 - accuracy: 0.7942 - val_loss: 0.5085 - val_accuracy: 0.8298\n",
            "Epoch 42/170\n",
            "1250/1250 [==============================] - 26s 21ms/step - loss: 0.6350 - accuracy: 0.7996 - val_loss: 0.5587 - val_accuracy: 0.8177\n",
            "Epoch 43/170\n",
            "1250/1250 [==============================] - 26s 21ms/step - loss: 0.6341 - accuracy: 0.8008 - val_loss: 0.5089 - val_accuracy: 0.8381\n",
            "Epoch 44/170\n",
            "1250/1250 [==============================] - 26s 21ms/step - loss: 0.6202 - accuracy: 0.8037 - val_loss: 0.7486 - val_accuracy: 0.7648\n",
            "Epoch 45/170\n",
            "1250/1250 [==============================] - 26s 21ms/step - loss: 0.6210 - accuracy: 0.8028 - val_loss: 0.5619 - val_accuracy: 0.8171\n",
            "Epoch 46/170\n",
            "1250/1250 [==============================] - 26s 21ms/step - loss: 0.6299 - accuracy: 0.8023 - val_loss: 0.5193 - val_accuracy: 0.8324\n",
            "Epoch 47/170\n",
            "1250/1250 [==============================] - 26s 21ms/step - loss: 0.6129 - accuracy: 0.8062 - val_loss: 0.4810 - val_accuracy: 0.8406\n",
            "Epoch 48/170\n",
            "1250/1250 [==============================] - 26s 21ms/step - loss: 0.6225 - accuracy: 0.8025 - val_loss: 0.5190 - val_accuracy: 0.8336\n",
            "Epoch 49/170\n",
            "1250/1250 [==============================] - 26s 21ms/step - loss: 0.6206 - accuracy: 0.8076 - val_loss: 0.4771 - val_accuracy: 0.8449\n",
            "Epoch 50/170\n",
            "1250/1250 [==============================] - 26s 21ms/step - loss: 0.5887 - accuracy: 0.8139 - val_loss: 0.4483 - val_accuracy: 0.8529\n",
            "Epoch 51/170\n",
            "1250/1250 [==============================] - 26s 21ms/step - loss: 0.6072 - accuracy: 0.8102 - val_loss: 0.4868 - val_accuracy: 0.8384\n",
            "Epoch 52/170\n",
            "1250/1250 [==============================] - 26s 21ms/step - loss: 0.5849 - accuracy: 0.8156 - val_loss: 0.5831 - val_accuracy: 0.8151\n",
            "Epoch 53/170\n",
            "1250/1250 [==============================] - 26s 21ms/step - loss: 0.5863 - accuracy: 0.8159 - val_loss: 0.6430 - val_accuracy: 0.7962\n",
            "Epoch 54/170\n",
            "1250/1250 [==============================] - 26s 21ms/step - loss: 0.5934 - accuracy: 0.8152 - val_loss: 0.4316 - val_accuracy: 0.8560\n",
            "Epoch 55/170\n",
            "1250/1250 [==============================] - 26s 21ms/step - loss: 0.5748 - accuracy: 0.8174 - val_loss: 0.4690 - val_accuracy: 0.8454\n",
            "Epoch 56/170\n",
            "1250/1250 [==============================] - 26s 21ms/step - loss: 0.5708 - accuracy: 0.8182 - val_loss: 0.4788 - val_accuracy: 0.8404\n",
            "Epoch 57/170\n",
            "1250/1250 [==============================] - 26s 21ms/step - loss: 0.5682 - accuracy: 0.8183 - val_loss: 0.4459 - val_accuracy: 0.8519\n",
            "Epoch 58/170\n",
            "1250/1250 [==============================] - 26s 21ms/step - loss: 0.5614 - accuracy: 0.8240 - val_loss: 0.4992 - val_accuracy: 0.8380\n",
            "Epoch 59/170\n",
            "1250/1250 [==============================] - 26s 21ms/step - loss: 0.5548 - accuracy: 0.8256 - val_loss: 0.5753 - val_accuracy: 0.8118\n",
            "Epoch 60/170\n",
            "1250/1250 [==============================] - 26s 21ms/step - loss: 0.5552 - accuracy: 0.8241 - val_loss: 0.4573 - val_accuracy: 0.8554\n",
            "Epoch 61/170\n",
            "1250/1250 [==============================] - 26s 21ms/step - loss: 0.5597 - accuracy: 0.8258 - val_loss: 0.4337 - val_accuracy: 0.8588\n",
            "Epoch 62/170\n",
            "1250/1250 [==============================] - 26s 21ms/step - loss: 0.5544 - accuracy: 0.8246 - val_loss: 0.4771 - val_accuracy: 0.8431\n",
            "Epoch 63/170\n",
            "1250/1250 [==============================] - 26s 21ms/step - loss: 0.5381 - accuracy: 0.8294 - val_loss: 0.4595 - val_accuracy: 0.8517\n",
            "Epoch 64/170\n",
            "1250/1250 [==============================] - 26s 21ms/step - loss: 0.5441 - accuracy: 0.8294 - val_loss: 0.4708 - val_accuracy: 0.8501\n",
            "Epoch 65/170\n",
            "1250/1250 [==============================] - 26s 21ms/step - loss: 0.5494 - accuracy: 0.8280 - val_loss: 0.4660 - val_accuracy: 0.8503\n",
            "Epoch 66/170\n",
            "1250/1250 [==============================] - 26s 21ms/step - loss: 0.5204 - accuracy: 0.8356 - val_loss: 0.4383 - val_accuracy: 0.8592\n",
            "Epoch 67/170\n",
            "1250/1250 [==============================] - 26s 21ms/step - loss: 0.5384 - accuracy: 0.8293 - val_loss: 0.4652 - val_accuracy: 0.8454\n",
            "Epoch 68/170\n",
            "1250/1250 [==============================] - 26s 21ms/step - loss: 0.5218 - accuracy: 0.8362 - val_loss: 0.4498 - val_accuracy: 0.8568\n",
            "Epoch 69/170\n",
            "1250/1250 [==============================] - 26s 21ms/step - loss: 0.5218 - accuracy: 0.8355 - val_loss: 0.4613 - val_accuracy: 0.8460\n",
            "Epoch 70/170\n",
            "1250/1250 [==============================] - 26s 21ms/step - loss: 0.5328 - accuracy: 0.8302 - val_loss: 0.4622 - val_accuracy: 0.8535\n",
            "Epoch 71/170\n",
            "1250/1250 [==============================] - 26s 21ms/step - loss: 0.5236 - accuracy: 0.8371 - val_loss: 0.4845 - val_accuracy: 0.8464\n",
            "Epoch 72/170\n",
            "1250/1250 [==============================] - 26s 21ms/step - loss: 0.5153 - accuracy: 0.8388 - val_loss: 0.4247 - val_accuracy: 0.8625\n",
            "Epoch 73/170\n",
            "1250/1250 [==============================] - 26s 21ms/step - loss: 0.5053 - accuracy: 0.8399 - val_loss: 0.5027 - val_accuracy: 0.8391\n",
            "Epoch 74/170\n",
            "1250/1250 [==============================] - 26s 21ms/step - loss: 0.5127 - accuracy: 0.8406 - val_loss: 0.4229 - val_accuracy: 0.8604\n",
            "Epoch 75/170\n",
            "1250/1250 [==============================] - 26s 21ms/step - loss: 0.5148 - accuracy: 0.8401 - val_loss: 0.4654 - val_accuracy: 0.8539\n",
            "Epoch 76/170\n",
            "1250/1250 [==============================] - 26s 21ms/step - loss: 0.5150 - accuracy: 0.8379 - val_loss: 0.4854 - val_accuracy: 0.8474\n",
            "Epoch 77/170\n",
            "1250/1250 [==============================] - 26s 21ms/step - loss: 0.5104 - accuracy: 0.8418 - val_loss: 0.4773 - val_accuracy: 0.8487\n",
            "Epoch 78/170\n",
            "1250/1250 [==============================] - 26s 21ms/step - loss: 0.4992 - accuracy: 0.8411 - val_loss: 0.4348 - val_accuracy: 0.8617\n",
            "Epoch 79/170\n",
            "1250/1250 [==============================] - 26s 21ms/step - loss: 0.4935 - accuracy: 0.8430 - val_loss: 0.4385 - val_accuracy: 0.8608\n",
            "Epoch 80/170\n",
            "1250/1250 [==============================] - 26s 21ms/step - loss: 0.4884 - accuracy: 0.8471 - val_loss: 0.4138 - val_accuracy: 0.8640\n",
            "Epoch 81/170\n",
            "1250/1250 [==============================] - 26s 21ms/step - loss: 0.4806 - accuracy: 0.8490 - val_loss: 0.4239 - val_accuracy: 0.8661\n",
            "Epoch 82/170\n",
            "1250/1250 [==============================] - 26s 21ms/step - loss: 0.4946 - accuracy: 0.8434 - val_loss: 0.4879 - val_accuracy: 0.8479\n",
            "Epoch 83/170\n",
            "1250/1250 [==============================] - 26s 21ms/step - loss: 0.4855 - accuracy: 0.8469 - val_loss: 0.4118 - val_accuracy: 0.8654\n",
            "Epoch 84/170\n",
            "1250/1250 [==============================] - 26s 21ms/step - loss: 0.4765 - accuracy: 0.8488 - val_loss: 0.4504 - val_accuracy: 0.8565\n",
            "Epoch 85/170\n",
            "1250/1250 [==============================] - 26s 21ms/step - loss: 0.4734 - accuracy: 0.8507 - val_loss: 0.4557 - val_accuracy: 0.8538\n",
            "Epoch 86/170\n",
            "1250/1250 [==============================] - 26s 21ms/step - loss: 0.4715 - accuracy: 0.8518 - val_loss: 0.4275 - val_accuracy: 0.8630\n",
            "Epoch 87/170\n",
            "1250/1250 [==============================] - 26s 21ms/step - loss: 0.4733 - accuracy: 0.8496 - val_loss: 0.4326 - val_accuracy: 0.8588\n",
            "Epoch 88/170\n",
            "1250/1250 [==============================] - 26s 21ms/step - loss: 0.4692 - accuracy: 0.8517 - val_loss: 0.4735 - val_accuracy: 0.8532\n",
            "Epoch 89/170\n",
            "1250/1250 [==============================] - 26s 21ms/step - loss: 0.4837 - accuracy: 0.8484 - val_loss: 0.3943 - val_accuracy: 0.8688\n",
            "Epoch 90/170\n",
            "1250/1250 [==============================] - 26s 21ms/step - loss: 0.4769 - accuracy: 0.8539 - val_loss: 0.4147 - val_accuracy: 0.8648\n",
            "Epoch 91/170\n",
            "1250/1250 [==============================] - 26s 21ms/step - loss: 0.4676 - accuracy: 0.8540 - val_loss: 0.3805 - val_accuracy: 0.8758\n",
            "Epoch 92/170\n",
            "1250/1250 [==============================] - 26s 21ms/step - loss: 0.4486 - accuracy: 0.8568 - val_loss: 0.3871 - val_accuracy: 0.8726\n",
            "Epoch 93/170\n",
            "1250/1250 [==============================] - 26s 21ms/step - loss: 0.4543 - accuracy: 0.8566 - val_loss: 0.4213 - val_accuracy: 0.8644\n",
            "Epoch 94/170\n",
            "1250/1250 [==============================] - 26s 21ms/step - loss: 0.4579 - accuracy: 0.8547 - val_loss: 0.4635 - val_accuracy: 0.8547\n",
            "Epoch 95/170\n",
            "1250/1250 [==============================] - 26s 21ms/step - loss: 0.4487 - accuracy: 0.8581 - val_loss: 0.4006 - val_accuracy: 0.8761\n",
            "Epoch 96/170\n",
            "1250/1250 [==============================] - 26s 21ms/step - loss: 0.4577 - accuracy: 0.8553 - val_loss: 0.3811 - val_accuracy: 0.8779\n",
            "Epoch 97/170\n",
            "1250/1250 [==============================] - 26s 21ms/step - loss: 0.4557 - accuracy: 0.8557 - val_loss: 0.4245 - val_accuracy: 0.8609\n",
            "Epoch 98/170\n",
            "1250/1250 [==============================] - 26s 21ms/step - loss: 0.4446 - accuracy: 0.8595 - val_loss: 0.4042 - val_accuracy: 0.8716\n",
            "Epoch 99/170\n",
            "1250/1250 [==============================] - 26s 21ms/step - loss: 0.4621 - accuracy: 0.8553 - val_loss: 0.4076 - val_accuracy: 0.8671\n",
            "Epoch 100/170\n",
            "1250/1250 [==============================] - 26s 21ms/step - loss: 0.4460 - accuracy: 0.8604 - val_loss: 0.4787 - val_accuracy: 0.8502\n",
            "Epoch 101/170\n",
            "1250/1250 [==============================] - 26s 21ms/step - loss: 0.4541 - accuracy: 0.8574 - val_loss: 0.3922 - val_accuracy: 0.8745\n",
            "Epoch 102/170\n",
            "1250/1250 [==============================] - 26s 21ms/step - loss: 0.4482 - accuracy: 0.8609 - val_loss: 0.4090 - val_accuracy: 0.8709\n",
            "Epoch 103/170\n",
            "1250/1250 [==============================] - 26s 21ms/step - loss: 0.4366 - accuracy: 0.8622 - val_loss: 0.4653 - val_accuracy: 0.8540\n",
            "Epoch 104/170\n",
            "1250/1250 [==============================] - 26s 21ms/step - loss: 0.4414 - accuracy: 0.8626 - val_loss: 0.3577 - val_accuracy: 0.8829\n",
            "Epoch 105/170\n",
            "1250/1250 [==============================] - 26s 21ms/step - loss: 0.4407 - accuracy: 0.8626 - val_loss: 0.3903 - val_accuracy: 0.8779\n",
            "Epoch 106/170\n",
            "1250/1250 [==============================] - 26s 21ms/step - loss: 0.4333 - accuracy: 0.8627 - val_loss: 0.4528 - val_accuracy: 0.8582\n",
            "Epoch 107/170\n",
            "1250/1250 [==============================] - 26s 21ms/step - loss: 0.4374 - accuracy: 0.8617 - val_loss: 0.3990 - val_accuracy: 0.8732\n",
            "Epoch 108/170\n",
            "1250/1250 [==============================] - 26s 21ms/step - loss: 0.4443 - accuracy: 0.8614 - val_loss: 0.3927 - val_accuracy: 0.8735\n",
            "Epoch 109/170\n",
            "1250/1250 [==============================] - 26s 21ms/step - loss: 0.4358 - accuracy: 0.8637 - val_loss: 0.4163 - val_accuracy: 0.8661\n",
            "Epoch 110/170\n",
            "1250/1250 [==============================] - 26s 21ms/step - loss: 0.4331 - accuracy: 0.8657 - val_loss: 0.3950 - val_accuracy: 0.8722\n",
            "Epoch 111/170\n",
            "1250/1250 [==============================] - 26s 21ms/step - loss: 0.4346 - accuracy: 0.8640 - val_loss: 0.3899 - val_accuracy: 0.8748\n",
            "Epoch 112/170\n",
            "1250/1250 [==============================] - 26s 21ms/step - loss: 0.4338 - accuracy: 0.8662 - val_loss: 0.3893 - val_accuracy: 0.8709\n",
            "Epoch 113/170\n",
            "1250/1250 [==============================] - 26s 21ms/step - loss: 0.4202 - accuracy: 0.8682 - val_loss: 0.4084 - val_accuracy: 0.8656\n",
            "Epoch 114/170\n",
            "1250/1250 [==============================] - 26s 21ms/step - loss: 0.4199 - accuracy: 0.8678 - val_loss: 0.3549 - val_accuracy: 0.8864\n",
            "Epoch 115/170\n",
            "1250/1250 [==============================] - 26s 21ms/step - loss: 0.4189 - accuracy: 0.8692 - val_loss: 0.3477 - val_accuracy: 0.8833\n",
            "Epoch 116/170\n",
            "1250/1250 [==============================] - 26s 21ms/step - loss: 0.4186 - accuracy: 0.8681 - val_loss: 0.4330 - val_accuracy: 0.8637\n",
            "Epoch 117/170\n",
            "1250/1250 [==============================] - 26s 21ms/step - loss: 0.4185 - accuracy: 0.8682 - val_loss: 0.4061 - val_accuracy: 0.8720\n",
            "Epoch 118/170\n",
            "1250/1250 [==============================] - 26s 21ms/step - loss: 0.4163 - accuracy: 0.8664 - val_loss: 0.4146 - val_accuracy: 0.8699\n",
            "Epoch 119/170\n",
            "1250/1250 [==============================] - 26s 21ms/step - loss: 0.4199 - accuracy: 0.8669 - val_loss: 0.4087 - val_accuracy: 0.8693\n",
            "Epoch 120/170\n",
            "1250/1250 [==============================] - 26s 21ms/step - loss: 0.4073 - accuracy: 0.8706 - val_loss: 0.4015 - val_accuracy: 0.8741\n",
            "Epoch 121/170\n",
            "1250/1250 [==============================] - 26s 21ms/step - loss: 0.4180 - accuracy: 0.8685 - val_loss: 0.4002 - val_accuracy: 0.8740\n",
            "Epoch 122/170\n",
            "1250/1250 [==============================] - 26s 21ms/step - loss: 0.4155 - accuracy: 0.8717 - val_loss: 0.3467 - val_accuracy: 0.8893\n",
            "Epoch 123/170\n",
            "1250/1250 [==============================] - 26s 21ms/step - loss: 0.4100 - accuracy: 0.8695 - val_loss: 0.4231 - val_accuracy: 0.8641\n",
            "Epoch 124/170\n",
            "1250/1250 [==============================] - 26s 21ms/step - loss: 0.4148 - accuracy: 0.8715 - val_loss: 0.4356 - val_accuracy: 0.8631\n",
            "Epoch 125/170\n",
            "1250/1250 [==============================] - 26s 21ms/step - loss: 0.4073 - accuracy: 0.8719 - val_loss: 0.3725 - val_accuracy: 0.8805\n",
            "Epoch 126/170\n",
            "1250/1250 [==============================] - 26s 21ms/step - loss: 0.4103 - accuracy: 0.8705 - val_loss: 0.3777 - val_accuracy: 0.8769\n",
            "Epoch 127/170\n",
            "1250/1250 [==============================] - 26s 21ms/step - loss: 0.4136 - accuracy: 0.8701 - val_loss: 0.3687 - val_accuracy: 0.8799\n",
            "Epoch 128/170\n",
            "1250/1250 [==============================] - 26s 21ms/step - loss: 0.3960 - accuracy: 0.8737 - val_loss: 0.3955 - val_accuracy: 0.8748\n",
            "Epoch 129/170\n",
            "1250/1250 [==============================] - 26s 21ms/step - loss: 0.4085 - accuracy: 0.8727 - val_loss: 0.3967 - val_accuracy: 0.8773\n",
            "Epoch 130/170\n",
            "1250/1250 [==============================] - 26s 21ms/step - loss: 0.4089 - accuracy: 0.8724 - val_loss: 0.3950 - val_accuracy: 0.8738\n",
            "Epoch 131/170\n",
            "1250/1250 [==============================] - 26s 21ms/step - loss: 0.3994 - accuracy: 0.8764 - val_loss: 0.3461 - val_accuracy: 0.8860\n",
            "Epoch 132/170\n",
            "1250/1250 [==============================] - 26s 21ms/step - loss: 0.3899 - accuracy: 0.8735 - val_loss: 0.4179 - val_accuracy: 0.8678\n",
            "Epoch 133/170\n",
            "1250/1250 [==============================] - 26s 21ms/step - loss: 0.3917 - accuracy: 0.8770 - val_loss: 0.3723 - val_accuracy: 0.8803\n",
            "Epoch 134/170\n",
            "1250/1250 [==============================] - 26s 21ms/step - loss: 0.3882 - accuracy: 0.8754 - val_loss: 0.3921 - val_accuracy: 0.8759\n",
            "Epoch 135/170\n",
            "1250/1250 [==============================] - 26s 21ms/step - loss: 0.4006 - accuracy: 0.8745 - val_loss: 0.3690 - val_accuracy: 0.8853\n",
            "Epoch 136/170\n",
            "1250/1250 [==============================] - 26s 21ms/step - loss: 0.3980 - accuracy: 0.8760 - val_loss: 0.3636 - val_accuracy: 0.8816\n",
            "Epoch 137/170\n",
            "1250/1250 [==============================] - 26s 21ms/step - loss: 0.3960 - accuracy: 0.8777 - val_loss: 0.3949 - val_accuracy: 0.8759\n",
            "Epoch 138/170\n",
            "1250/1250 [==============================] - 26s 21ms/step - loss: 0.3971 - accuracy: 0.8782 - val_loss: 0.3859 - val_accuracy: 0.8763\n",
            "Epoch 139/170\n",
            "1250/1250 [==============================] - 26s 21ms/step - loss: 0.3767 - accuracy: 0.8808 - val_loss: 0.3875 - val_accuracy: 0.8775\n",
            "Epoch 140/170\n",
            "1250/1250 [==============================] - 25s 20ms/step - loss: 0.3859 - accuracy: 0.8797 - val_loss: 0.4984 - val_accuracy: 0.8524\n",
            "Epoch 141/170\n",
            "1250/1250 [==============================] - 26s 21ms/step - loss: 0.3892 - accuracy: 0.8762 - val_loss: 0.3530 - val_accuracy: 0.8845\n",
            "Epoch 142/170\n",
            "1250/1250 [==============================] - 26s 20ms/step - loss: 0.3867 - accuracy: 0.8788 - val_loss: 0.3766 - val_accuracy: 0.8775\n",
            "Epoch 143/170\n",
            "1250/1250 [==============================] - 26s 21ms/step - loss: 0.3875 - accuracy: 0.8797 - val_loss: 0.3615 - val_accuracy: 0.8826\n",
            "Epoch 144/170\n",
            "1250/1250 [==============================] - 26s 21ms/step - loss: 0.3889 - accuracy: 0.8772 - val_loss: 0.3966 - val_accuracy: 0.8748\n",
            "Epoch 145/170\n",
            "1250/1250 [==============================] - 25s 20ms/step - loss: 0.3828 - accuracy: 0.8820 - val_loss: 0.3699 - val_accuracy: 0.8828\n",
            "Epoch 146/170\n",
            "1250/1250 [==============================] - 26s 20ms/step - loss: 0.3748 - accuracy: 0.8825 - val_loss: 0.3927 - val_accuracy: 0.8762\n",
            "Epoch 147/170\n",
            "1250/1250 [==============================] - 26s 21ms/step - loss: 0.3787 - accuracy: 0.8817 - val_loss: 0.3790 - val_accuracy: 0.8795\n",
            "Epoch 148/170\n",
            "1250/1250 [==============================] - 26s 21ms/step - loss: 0.3819 - accuracy: 0.8809 - val_loss: 0.3664 - val_accuracy: 0.8829\n",
            "Epoch 149/170\n",
            "1250/1250 [==============================] - 26s 21ms/step - loss: 0.3682 - accuracy: 0.8828 - val_loss: 0.3789 - val_accuracy: 0.8823\n",
            "Epoch 150/170\n",
            "1250/1250 [==============================] - 26s 21ms/step - loss: 0.3769 - accuracy: 0.8826 - val_loss: 0.3669 - val_accuracy: 0.8842\n",
            "Epoch 151/170\n",
            "1250/1250 [==============================] - 26s 21ms/step - loss: 0.3757 - accuracy: 0.8804 - val_loss: 0.3798 - val_accuracy: 0.8811\n",
            "Epoch 152/170\n",
            "1250/1250 [==============================] - 26s 21ms/step - loss: 0.3765 - accuracy: 0.8803 - val_loss: 0.4063 - val_accuracy: 0.8760\n",
            "Epoch 153/170\n",
            "1250/1250 [==============================] - 26s 21ms/step - loss: 0.3635 - accuracy: 0.8835 - val_loss: 0.3511 - val_accuracy: 0.8883\n",
            "Epoch 154/170\n",
            "1250/1250 [==============================] - 26s 21ms/step - loss: 0.3838 - accuracy: 0.8802 - val_loss: 0.4077 - val_accuracy: 0.8681\n",
            "Epoch 155/170\n",
            "1250/1250 [==============================] - 26s 21ms/step - loss: 0.3691 - accuracy: 0.8844 - val_loss: 0.3823 - val_accuracy: 0.8751\n",
            "Epoch 156/170\n",
            "1250/1250 [==============================] - 26s 21ms/step - loss: 0.3743 - accuracy: 0.8824 - val_loss: 0.3434 - val_accuracy: 0.8912\n",
            "Epoch 157/170\n",
            "1250/1250 [==============================] - 27s 21ms/step - loss: 0.3604 - accuracy: 0.8883 - val_loss: 0.3481 - val_accuracy: 0.8905\n",
            "Epoch 158/170\n",
            "1250/1250 [==============================] - 26s 21ms/step - loss: 0.3615 - accuracy: 0.8838 - val_loss: 0.3989 - val_accuracy: 0.8737\n",
            "Epoch 159/170\n",
            "1250/1250 [==============================] - 26s 21ms/step - loss: 0.3662 - accuracy: 0.8830 - val_loss: 0.3512 - val_accuracy: 0.8864\n",
            "Epoch 160/170\n",
            "1250/1250 [==============================] - 26s 21ms/step - loss: 0.3625 - accuracy: 0.8869 - val_loss: 0.3560 - val_accuracy: 0.8858\n",
            "Epoch 161/170\n",
            "1250/1250 [==============================] - 26s 21ms/step - loss: 0.3590 - accuracy: 0.8867 - val_loss: 0.4139 - val_accuracy: 0.8713\n",
            "Epoch 162/170\n",
            "1250/1250 [==============================] - 26s 21ms/step - loss: 0.3598 - accuracy: 0.8870 - val_loss: 0.3321 - val_accuracy: 0.8912\n",
            "Epoch 163/170\n",
            "1250/1250 [==============================] - 26s 21ms/step - loss: 0.3572 - accuracy: 0.8861 - val_loss: 0.3261 - val_accuracy: 0.8967\n",
            "Epoch 164/170\n",
            "1250/1250 [==============================] - 26s 21ms/step - loss: 0.3709 - accuracy: 0.8825 - val_loss: 0.3907 - val_accuracy: 0.8799\n",
            "Epoch 165/170\n",
            "1250/1250 [==============================] - 27s 21ms/step - loss: 0.3628 - accuracy: 0.8857 - val_loss: 0.4033 - val_accuracy: 0.8749\n",
            "Epoch 166/170\n",
            "1250/1250 [==============================] - 27s 21ms/step - loss: 0.3613 - accuracy: 0.8867 - val_loss: 0.4061 - val_accuracy: 0.8715\n",
            "Epoch 167/170\n",
            "1250/1250 [==============================] - 26s 21ms/step - loss: 0.3529 - accuracy: 0.8881 - val_loss: 0.3747 - val_accuracy: 0.8794\n",
            "Epoch 168/170\n",
            "1250/1250 [==============================] - 26s 21ms/step - loss: 0.3570 - accuracy: 0.8888 - val_loss: 0.4043 - val_accuracy: 0.8775\n",
            "Epoch 169/170\n",
            "1250/1250 [==============================] - 26s 21ms/step - loss: 0.3518 - accuracy: 0.8893 - val_loss: 0.3527 - val_accuracy: 0.8852\n",
            "Epoch 170/170\n",
            "1250/1250 [==============================] - 26s 21ms/step - loss: 0.3500 - accuracy: 0.8892 - val_loss: 0.3283 - val_accuracy: 0.8927\n"
          ],
          "name": "stdout"
        }
      ]
    },
    {
      "cell_type": "code",
      "metadata": {
        "id": "AK7GvOCaUwp9",
        "colab": {
          "base_uri": "https://localhost:8080/",
          "height": 279
        },
        "outputId": "8bfa21da-6099-4d4c-9015-07ea96e961e1"
      },
      "source": [
        "import matplotlib.pyplot as plt\n",
        "\n",
        "epochs = range(0, epochs)\n",
        "train_loss = model_hist.history['loss']\n",
        "val_loss= model_hist.history['val_loss']\n",
        "\n",
        "plt.plot(epochs, val_loss, 'b+', label='Validation')\n",
        "plt.plot(epochs, train_loss, 'bo', label='training')\n",
        "plt.xlabel('Epochs')\n",
        "plt.ylabel('Validation loss')\n",
        "plt.legend()\n",
        "\n",
        "plt.show()"
      ],
      "execution_count": 9,
      "outputs": [
        {
          "output_type": "display_data",
          "data": {
            "image/png": "[encoded data removed]",
            "text/plain": [
              "<Figure size 432x288 with 1 Axes>"
            ]
          },
          "metadata": {
            "tags": [],
            "needs_background": "light"
          }
        }
      ]
    },
    {
      "cell_type": "code",
      "metadata": {
        "id": "ZSr5gnDLNRo7",
        "colab": {
          "base_uri": "https://localhost:8080/"
        },
        "outputId": "cdfbed2b-f7e2-4663-d7f5-9a76f369ed57"
      },
      "source": [
        "test_loss, test_acc = model.evaluate(test_images, test_labels)\n",
        "print('test_acc:', test_acc)\n",
        "test_loss"
      ],
      "execution_count": 10,
      "outputs": [
        {
          "output_type": "stream",
          "text": [
            "313/313 [==============================] - 1s 4ms/step - loss: 0.3583 - accuracy: 0.8868\n",
            "test_acc: 0.8867999911308289\n"
          ],
          "name": "stdout"
        },
        {
          "output_type": "execute_result",
          "data": {
            "text/plain": [
              "0.35827818512916565"
            ]
          },
          "metadata": {
            "tags": []
          },
          "execution_count": 10
        }
      ]
    },
    {
      "cell_type": "code",
      "metadata": {
        "id": "e9SeN6QOO77D"
      },
      "source": [
        "model.save_weights('./cifar10.h5', overwrite=True)"
      ],
      "execution_count": 11,
      "outputs": []
    }
  ]
}