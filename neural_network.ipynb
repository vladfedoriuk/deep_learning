{
 "cells": [
  {
   "cell_type": "code",
   "execution_count": 294,
   "metadata": {},
   "outputs": [],
   "source": [
    "import numpy as np\n",
    "import scipy as sp\n",
    "import scipy.stats as stats\n",
    "\n",
    "import matplotlib.pyplot as plt\n",
    "%matplotlib inline"
   ]
  },
  {
   "cell_type": "code",
   "execution_count": 295,
   "metadata": {
    "lines_to_next_cell": 2
   },
   "outputs": [],
   "source": [
    "import torch \n",
    "import torchvision\n",
    "import torch.nn as nn"
   ]
  },
  {
   "cell_type": "markdown",
   "metadata": {},
   "source": [
    "## Zadanie 1"
   ]
  },
  {
   "cell_type": "markdown",
   "metadata": {},
   "source": [
    "Train the neural network on the data from file `data.npy`. "
   ]
  },
  {
   "cell_type": "code",
   "execution_count": 296,
   "metadata": {},
   "outputs": [],
   "source": [
    "data = np.loadtxt('data.npy').astype('float32')"
   ]
  },
  {
   "cell_type": "code",
   "execution_count": 297,
   "metadata": {},
   "outputs": [
    {
     "data": {
      "image/png": "[encoded data removed]",
      "text/plain": [
       "<Figure size 432x288 with 1 Axes>"
      ]
     },
     "metadata": {
      "needs_background": "light"
     },
     "output_type": "display_data"
    }
   ],
   "source": [
    "plt.scatter(data[:,0], data[:,1]);"
   ]
  },
  {
   "cell_type": "code",
   "execution_count": 298,
   "metadata": {},
   "outputs": [],
   "source": [
    "t_xs = torch.from_numpy(data[:,0]).view(-1,1)\n",
    "t_ys = torch.from_numpy(data[:,1]).view(-1,1)"
   ]
  },
  {
   "cell_type": "code",
   "execution_count": 332,
   "metadata": {},
   "outputs": [],
   "source": [
    "class NNModel(nn.Module):\n",
    "    def __init__(self, input_dim, hidden_dim1, hidden_dim2, hidden_dim3, output_dim):\n",
    "        super(NNModel, self).__init__()\n",
    "        \n",
    "        self.lin1 = nn.Linear(input_dim, hidden_dim1)\n",
    "        self.afunc1 = nn.ReLU()\n",
    "        \n",
    "        self.lin2 = nn.Linear(hidden_dim1, hidden_dim2)\n",
    "        self.afunc2 = nn.Sigmoid()\n",
    "        \n",
    "        self.lin3 = nn.Linear(hidden_dim2, hidden_dim3)\n",
    "        self.afunc3 = nn.ReLU()\n",
    "        \n",
    "        self.lin4 = nn.Linear(hidden_dim3, output_dim)\n",
    "    \n",
    "    def forward(self, x):\n",
    "        out = self.lin4(\n",
    "            self.afunc3(\n",
    "                self.lin3(\n",
    "                    self.afunc2(\n",
    "                        self.lin2(\n",
    "                            self.afunc1(\n",
    "                                self.lin1(x)\n",
    "                            )\n",
    "                        )\n",
    "                    )\n",
    "                )\n",
    "            )\n",
    "        )\n",
    "        return out\n",
    "        "
   ]
  },
  {
   "cell_type": "code",
   "execution_count": 333,
   "metadata": {},
   "outputs": [
    {
     "data": {
      "image/png": "[encoded data removed]",
      "text/plain": [
       "<Figure size 432x288 with 1 Axes>"
      ]
     },
     "metadata": {
      "needs_background": "light"
     },
     "output_type": "display_data"
    }
   ],
   "source": [
    "model = NNModel(1, 128, 128, 128, 1)\n",
    "t_out = model(t_xs)\n",
    "plt.plot(t_xs.view(-1).numpy(), t_out.data.view(-1).numpy(),'.');"
   ]
  },
  {
   "cell_type": "code",
   "execution_count": 334,
   "metadata": {},
   "outputs": [],
   "source": [
    "dataset = torch.utils.data.TensorDataset(t_xs, t_ys)"
   ]
  },
  {
   "cell_type": "code",
   "execution_count": 335,
   "metadata": {},
   "outputs": [],
   "source": [
    "loader = torch.utils.data.DataLoader(dataset,batch_size=len(dataset))"
   ]
  },
  {
   "cell_type": "code",
   "execution_count": 336,
   "metadata": {},
   "outputs": [],
   "source": [
    "optimizer = torch.optim.SGD(model.parameters(), lr = 0.1)"
   ]
  },
  {
   "cell_type": "code",
   "execution_count": 337,
   "metadata": {},
   "outputs": [],
   "source": [
    "loss_func = torch.nn.MSELoss()"
   ]
  },
  {
   "cell_type": "code",
   "execution_count": 338,
   "metadata": {},
   "outputs": [
    {
     "name": "stdout",
     "output_type": "stream",
     "text": [
      "epoch 0 0.526837\n",
      "epoch 10 0.427541\n",
      "epoch 20 0.548992\n",
      "epoch 30 0.350905\n",
      "epoch 40 0.505021\n",
      "epoch 50 0.407475\n",
      "epoch 60 0.306416\n",
      "epoch 70 0.362514\n",
      "epoch 80 0.339752\n",
      "epoch 90 0.331054\n",
      "epoch 100 0.234217\n",
      "epoch 110 0.623281\n",
      "epoch 120 0.247207\n",
      "epoch 130 0.030504\n",
      "epoch 140 0.048853\n",
      "epoch 150 0.092564\n",
      "epoch 160 0.087467\n",
      "epoch 170 0.079552\n",
      "epoch 180 0.072814\n",
      "epoch 190 0.066370\n",
      "epoch 200 0.062831\n",
      "epoch 210 0.057621\n",
      "epoch 220 0.050827\n",
      "epoch 230 0.047817\n",
      "epoch 240 0.045038\n",
      "epoch 250 0.043798\n",
      "epoch 260 0.042667\n",
      "epoch 270 0.040421\n",
      "epoch 280 0.038043\n",
      "epoch 290 0.036408\n",
      "epoch 300 0.035614\n",
      "epoch 310 0.033185\n",
      "epoch 320 0.033853\n",
      "epoch 330 0.033178\n",
      "epoch 340 0.031047\n",
      "epoch 350 0.030790\n",
      "epoch 360 0.030201\n",
      "epoch 370 0.028757\n",
      "epoch 380 0.027743\n",
      "epoch 390 0.027379\n",
      "epoch 400 0.026897\n",
      "epoch 410 0.026340\n",
      "epoch 420 0.026215\n",
      "epoch 430 0.025672\n",
      "epoch 440 0.025164\n",
      "epoch 450 0.024989\n",
      "epoch 460 0.024996\n",
      "epoch 470 0.025477\n",
      "epoch 480 0.025505\n",
      "epoch 490 0.025135\n",
      "epoch 500 0.025139\n",
      "epoch 510 0.024610\n",
      "epoch 520 0.023997\n",
      "epoch 530 0.023491\n",
      "epoch 540 0.022949\n",
      "epoch 550 0.024255\n",
      "epoch 560 0.023375\n",
      "epoch 570 0.023466\n",
      "epoch 580 0.024928\n",
      "epoch 590 0.025305\n",
      "epoch 600 0.023671\n",
      "epoch 610 0.023572\n",
      "epoch 620 0.023461\n",
      "epoch 630 0.023320\n",
      "epoch 640 0.023098\n",
      "epoch 650 0.022689\n",
      "epoch 660 0.022538\n",
      "epoch 670 0.022244\n",
      "epoch 680 0.021975\n",
      "epoch 690 0.021738\n",
      "epoch 700 0.021504\n",
      "epoch 710 0.021391\n",
      "epoch 720 0.021249\n",
      "epoch 730 0.021130\n",
      "epoch 740 0.021002\n",
      "epoch 750 0.020867\n",
      "epoch 760 0.020735\n",
      "epoch 770 0.020515\n",
      "epoch 780 0.020561\n",
      "epoch 790 0.020496\n",
      "epoch 800 0.020457\n",
      "epoch 810 0.020273\n",
      "epoch 820 0.020173\n",
      "epoch 830 0.020079\n",
      "epoch 840 0.019970\n",
      "epoch 850 0.019876\n",
      "epoch 860 0.019558\n",
      "epoch 870 0.019214\n",
      "epoch 880 0.018910\n",
      "epoch 890 0.018587\n",
      "epoch 900 0.018359\n",
      "epoch 910 0.018043\n",
      "epoch 920 0.017930\n",
      "epoch 930 0.017890\n",
      "epoch 940 0.017910\n",
      "epoch 950 0.018047\n",
      "epoch 960 0.018110\n",
      "epoch 970 0.018230\n",
      "epoch 980 0.018331\n",
      "epoch 990 0.018387\n",
      "epoch 1000 0.018367\n",
      "epoch 1010 0.018270\n",
      "epoch 1020 0.018180\n",
      "epoch 1030 0.018135\n",
      "epoch 1040 0.018135\n",
      "epoch 1050 0.018151\n",
      "epoch 1060 0.018133\n",
      "epoch 1070 0.018163\n",
      "epoch 1080 0.018172\n",
      "epoch 1090 0.018312\n",
      "epoch 1100 0.018424\n",
      "epoch 1110 0.018426\n",
      "epoch 1120 0.018420\n",
      "epoch 1130 0.018325\n",
      "epoch 1140 0.018216\n",
      "epoch 1150 0.018078\n",
      "epoch 1160 0.018021\n",
      "epoch 1170 0.017955\n",
      "epoch 1180 0.017949\n",
      "epoch 1190 0.017928\n",
      "epoch 1200 0.017932\n",
      "epoch 1210 0.017902\n",
      "epoch 1220 0.017914\n",
      "epoch 1230 0.017876\n",
      "epoch 1240 0.017882\n",
      "epoch 1250 0.017830\n",
      "epoch 1260 0.017796\n",
      "epoch 1270 0.017770\n",
      "epoch 1280 0.017728\n",
      "epoch 1290 0.017684\n",
      "epoch 1300 0.017672\n",
      "epoch 1310 0.017636\n",
      "epoch 1320 0.017630\n",
      "epoch 1330 0.017590\n",
      "epoch 1340 0.017506\n",
      "epoch 1350 0.017527\n",
      "epoch 1360 0.017489\n",
      "epoch 1370 0.017447\n",
      "epoch 1380 0.017447\n",
      "epoch 1390 0.017411\n",
      "epoch 1400 0.017390\n",
      "epoch 1410 0.017389\n",
      "epoch 1420 0.017427\n",
      "epoch 1430 0.017419\n",
      "epoch 1440 0.017350\n",
      "epoch 1450 0.017306\n",
      "epoch 1460 0.017272\n",
      "epoch 1470 0.017220\n",
      "epoch 1480 0.017214\n",
      "epoch 1490 0.017188\n",
      "epoch 1500 0.017167\n",
      "epoch 1510 0.017135\n",
      "epoch 1520 0.017136\n",
      "epoch 1530 0.017100\n",
      "epoch 1540 0.017050\n",
      "epoch 1550 0.017030\n",
      "epoch 1560 0.016916\n",
      "epoch 1570 0.016854\n",
      "epoch 1580 0.016642\n",
      "epoch 1590 0.016509\n",
      "epoch 1600 0.016474\n",
      "epoch 1610 0.016556\n",
      "epoch 1620 0.016715\n",
      "epoch 1630 0.017046\n",
      "epoch 1640 0.017306\n",
      "epoch 1650 0.017170\n",
      "epoch 1660 0.016970\n",
      "epoch 1670 0.016769\n",
      "epoch 1680 0.016414\n",
      "epoch 1690 0.016052\n",
      "epoch 1700 0.015976\n",
      "epoch 1710 0.016007\n",
      "epoch 1720 0.016028\n",
      "epoch 1730 0.016054\n",
      "epoch 1740 0.016190\n",
      "epoch 1750 0.016371\n",
      "epoch 1760 0.016660\n",
      "epoch 1770 0.017070\n",
      "epoch 1780 0.017214\n",
      "epoch 1790 0.017027\n",
      "epoch 1800 0.016769\n",
      "epoch 1810 0.016556\n",
      "epoch 1820 0.016188\n",
      "epoch 1830 0.015940\n",
      "epoch 1840 0.015887\n",
      "epoch 1850 0.015895\n",
      "epoch 1860 0.015936\n",
      "epoch 1870 0.016070\n",
      "epoch 1880 0.016225\n",
      "epoch 1890 0.016497\n",
      "epoch 1900 0.016774\n",
      "epoch 1910 0.016986\n",
      "epoch 1920 0.016868\n",
      "epoch 1930 0.016638\n",
      "epoch 1940 0.016341\n",
      "epoch 1950 0.016002\n",
      "epoch 1960 0.015815\n",
      "epoch 1970 0.015797\n",
      "epoch 1980 0.015766\n",
      "epoch 1990 0.015802\n",
      "Wall time: 7.66 s\n"
     ]
    }
   ],
   "source": [
    "%%time\n",
    "for epoch in range(2000):    \n",
    "    for features, target in loader:\n",
    "        optimizer.zero_grad()\n",
    "        pred = model(features)\n",
    "        loss = loss_func(pred, target)\n",
    "        loss.backward()\n",
    "        optimizer.step()\n",
    "    if epoch%10 == 0:\n",
    "        print(\"epoch %d %f\" % (epoch, loss.item()))   "
   ]
  },
  {
   "cell_type": "code",
   "execution_count": 339,
   "metadata": {},
   "outputs": [
    {
     "data": {
      "image/png": "[encoded data removed]",
      "text/plain": [
       "<Figure size 432x288 with 1 Axes>"
      ]
     },
     "metadata": {
      "needs_background": "light"
     },
     "output_type": "display_data"
    }
   ],
   "source": [
    "t_xs_lin = torch.linspace(-np.pi, np.pi)\n",
    "t_out = model(t_xs_lin.view(-1,1))\n",
    "plt.scatter(data[:,0], data[:,1]);\n",
    "plt.plot(t_xs_lin.view(-1).numpy(), t_out.data.view(-1).numpy(),'-',c='orange');"
   ]
  },
  {
   "cell_type": "code",
   "execution_count": null,
   "metadata": {},
   "outputs": [],
   "source": []
  },
  {
   "cell_type": "code",
   "execution_count": null,
   "metadata": {},
   "outputs": [],
   "source": []
  }
 ],
 "metadata": {
  "kernelspec": {
   "display_name": "Python 3",
   "language": "python",
   "name": "python3"
  },
  "language_info": {
   "codemirror_mode": {
    "name": "ipython",
    "version": 3
   },
   "file_extension": ".py",
   "mimetype": "text/x-python",
   "name": "python",
   "nbconvert_exporter": "python",
   "pygments_lexer": "ipython3",
   "version": "3.8.5"
  }
 },
 "nbformat": 4,
 "nbformat_minor": 4
}
