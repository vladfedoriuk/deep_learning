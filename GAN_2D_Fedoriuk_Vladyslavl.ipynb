{
 "cells": [
  {
   "cell_type": "code",
   "execution_count": 2,
   "metadata": {},
   "outputs": [],
   "source": [
    "import numpy as np\n",
    "import scipy\n",
    "import scipy.stats\n",
    "import torch as t\n",
    "\n",
    "import matplotlib.pyplot as plt\n",
    "from IPython.display import clear_output, display\n",
    "\n",
    "from torch.nn import Sequential, Linear, ReLU, LeakyReLU, Dropout, Sigmoid"
   ]
  },
  {
   "cell_type": "code",
   "execution_count": 3,
   "metadata": {},
   "outputs": [],
   "source": [
    "%matplotlib inline"
   ]
  },
  {
   "cell_type": "code",
   "execution_count": 4,
   "metadata": {},
   "outputs": [
    {
     "name": "stderr",
     "output_type": "stream",
     "text": [
      "/home/vlad_f/anaconda3/lib/python3.8/site-packages/torch/cuda/__init__.py:52: UserWarning: CUDA initialization: The NVIDIA driver on your system is too old (found version 9010). Please update your GPU driver by downloading and installing a new version from the URL: http://www.nvidia.com/Download/index.aspx Alternatively, go to: https://pytorch.org to install a PyTorch version that has been compiled with your version of the CUDA driver. (Triggered internally at  /opt/conda/conda-bld/pytorch_1607370172916/work/c10/cuda/CUDAFunctions.cpp:100.)\n",
      "  return torch._C._cuda_getDeviceCount() > 0\n"
     ]
    }
   ],
   "source": [
    "if t.cuda.is_available():\n",
    "    if t.cuda.device_count()>1:\n",
    "        device = t.device('cuda:1')\n",
    "    else:\n",
    "        device = t.device('cuda')   \n",
    "else:\n",
    "    device = t.device('cpu')"
   ]
  },
  {
   "cell_type": "code",
   "execution_count": 5,
   "metadata": {},
   "outputs": [
    {
     "data": {
      "text/plain": [
       "device(type='cpu')"
      ]
     },
     "execution_count": 5,
     "metadata": {},
     "output_type": "execute_result"
    }
   ],
   "source": [
    "device\n",
    "# device=t.device('cpu') #Overrride the above device choice"
   ]
  },
  {
   "cell_type": "markdown",
   "metadata": {},
   "source": [
    "Generate the sample 2D distribution: uniform from unit circle.  "
   ]
  },
  {
   "cell_type": "code",
   "execution_count": 6,
   "metadata": {},
   "outputs": [],
   "source": [
    "angle = np.random.uniform(-np.pi,np.pi,(1000,1)).astype('float32')\n",
    "data = np.concatenate((np.cos(angle), np.sin(angle)),axis=1)"
   ]
  },
  {
   "cell_type": "code",
   "execution_count": 7,
   "metadata": {},
   "outputs": [
    {
     "data": {
      "text/plain": [
       "<matplotlib.collections.PathCollection at 0x7f3e0a0146a0>"
      ]
     },
     "execution_count": 7,
     "metadata": {},
     "output_type": "execute_result"
    },
    {
     "data": {
      "image/png": "[encoded data removed]",
      "text/plain": [
       "<Figure size 432x288 with 1 Axes>"
      ]
     },
     "metadata": {
      "needs_background": "light"
     },
     "output_type": "display_data"
    }
   ],
   "source": [
    "plt.scatter(data[:,0], data[:,1])"
   ]
  },
  {
   "cell_type": "code",
   "execution_count": 8,
   "metadata": {},
   "outputs": [],
   "source": [
    "data_t = t.from_numpy(data)"
   ]
  },
  {
   "cell_type": "code",
   "execution_count": 9,
   "metadata": {},
   "outputs": [
    {
     "data": {
      "text/plain": [
       "tensor([[ 0.7861,  0.6181],\n",
       "        [-0.4799,  0.8773],\n",
       "        [ 0.4355, -0.9002],\n",
       "        ...,\n",
       "        [-0.9870,  0.1609],\n",
       "        [ 0.9912,  0.1321],\n",
       "        [ 0.7774,  0.6290]])"
      ]
     },
     "execution_count": 9,
     "metadata": {},
     "output_type": "execute_result"
    }
   ],
   "source": [
    "data_t"
   ]
  },
  {
   "cell_type": "code",
   "execution_count": 10,
   "metadata": {},
   "outputs": [],
   "source": [
    "class Discriminator(t.nn.Module):\n",
    "    def __init__(self, hidden_dim):\n",
    "        super(Discriminator, self).__init__()\n",
    "        self.model = t.nn.Sequential(\n",
    "            t.nn.Linear(2, hidden_dim),\n",
    "            t.nn.ReLU(),\n",
    "            t.nn.Dropout(0.3),\n",
    "            t.nn.Linear(hidden_dim, hidden_dim//2),\n",
    "            t.nn.ReLU(),\n",
    "            t.nn.Dropout(0.3),\n",
    "            t.nn.Linear(hidden_dim//2, hidden_dim//4),\n",
    "            t.nn.ReLU(),\n",
    "            t.nn.Dropout(0.3),\n",
    "            t.nn.Linear(hidden_dim//4, 1),\n",
    "            t.nn.Sigmoid()\n",
    "         )\n",
    "    \n",
    "    def forward(self, x):\n",
    "        return self.model(x)\n",
    "        \n",
    "            \n",
    "\n",
    "discriminator = Discriminator(256)"
   ]
  },
  {
   "cell_type": "code",
   "execution_count": 11,
   "metadata": {},
   "outputs": [],
   "source": [
    "discriminator = discriminator.to(device) "
   ]
  },
  {
   "cell_type": "code",
   "execution_count": 12,
   "metadata": {},
   "outputs": [],
   "source": [
    "class Generator(t.nn.Module):\n",
    "    def __init__(self, hidden_dim):\n",
    "        super(Generator, self).__init__()\n",
    "        self.model = t.nn.Sequential(\n",
    "            t.nn.Linear(2, hidden_dim),\n",
    "            t.nn.ReLU(),\n",
    "            t.nn.Linear(hidden_dim, hidden_dim*2),\n",
    "            t.nn.ReLU(),\n",
    "            t.nn.Linear(hidden_dim*2, 2)\n",
    "        )\n",
    "\n",
    "    def forward(self, x):\n",
    "        return self.model(x)\n",
    "\n",
    "generator = Generator(16)"
   ]
  },
  {
   "cell_type": "code",
   "execution_count": 13,
   "metadata": {},
   "outputs": [],
   "source": [
    "generator= generator.to(device)"
   ]
  },
  {
   "cell_type": "code",
   "execution_count": 14,
   "metadata": {},
   "outputs": [
    {
     "data": {
      "text/plain": [
       "<matplotlib.collections.PathCollection at 0x7f3e09f28c40>"
      ]
     },
     "execution_count": 14,
     "metadata": {},
     "output_type": "execute_result"
    },
    {
     "data": {
      "image/png": "[encoded data removed]",
      "text/plain": [
       "<Figure size 432x288 with 1 Axes>"
      ]
     },
     "metadata": {
      "needs_background": "light"
     },
     "output_type": "display_data"
    }
   ],
   "source": [
    "out_t = generator(t.empty(1000,2, device=device).uniform_(-1,1));\n",
    "plt.scatter(out_t.data.cpu().numpy()[:,0],out_t.data.cpu().numpy()[:,1])"
   ]
  },
  {
   "cell_type": "code",
   "execution_count": 15,
   "metadata": {},
   "outputs": [],
   "source": [
    "d_optimizer = t.optim.Adam(discriminator.parameters(), lr=0.0002)"
   ]
  },
  {
   "cell_type": "code",
   "execution_count": 16,
   "metadata": {},
   "outputs": [],
   "source": [
    "g_optimizer = t.optim.Adam(generator.parameters(), lr=0.0002)"
   ]
  },
  {
   "cell_type": "markdown",
   "metadata": {},
   "source": [
    "### Problem 1"
   ]
  },
  {
   "cell_type": "markdown",
   "metadata": {},
   "source": [
    "Implement the GAN train loop that will train GAN to generate from the sample distribution.  "
   ]
  },
  {
   "cell_type": "code",
   "execution_count": 17,
   "metadata": {},
   "outputs": [
    {
     "data": {
      "text/plain": [
       "tensor([[ 0.3935,  0.9193],\n",
       "        [ 0.0562, -0.9984],\n",
       "        [-0.7656,  0.6433],\n",
       "        [ 0.8728, -0.4881],\n",
       "        [-0.9232,  0.3843],\n",
       "        [ 0.8595, -0.5111],\n",
       "        [ 0.0300,  0.9996],\n",
       "        [ 0.9068,  0.4215],\n",
       "        [-0.0434,  0.9991],\n",
       "        [ 0.3106,  0.9505],\n",
       "        [ 0.9265,  0.3763],\n",
       "        [-0.6826, -0.7308],\n",
       "        [-0.4286, -0.9035],\n",
       "        [-0.9929, -0.1188],\n",
       "        [-0.0442,  0.9990],\n",
       "        [ 0.3410, -0.9401],\n",
       "        [ 0.4502,  0.8929],\n",
       "        [ 0.2952,  0.9554],\n",
       "        [ 0.7952, -0.6064],\n",
       "        [ 0.9659, -0.2590],\n",
       "        [-0.7247, -0.6890],\n",
       "        [ 0.9114,  0.4114],\n",
       "        [-0.0507, -0.9987],\n",
       "        [ 0.4979,  0.8672],\n",
       "        [ 0.4091, -0.9125],\n",
       "        [ 0.0772, -0.9970],\n",
       "        [ 0.9445,  0.3287],\n",
       "        [-0.8152,  0.5792],\n",
       "        [-0.9760, -0.2177],\n",
       "        [-0.5751, -0.8181],\n",
       "        [-0.9971,  0.0763],\n",
       "        [ 0.5793, -0.8151]])"
      ]
     },
     "execution_count": 17,
     "metadata": {},
     "output_type": "execute_result"
    }
   ],
   "source": [
    "batch_size = 32\n",
    "train_loader = t.utils.data.DataLoader(\n",
    "    dataset=data_t, \n",
    "    batch_size=batch_size, \n",
    "    drop_last=True,\n",
    "    shuffle=True\n",
    ")\n",
    "next(iter(train_loader))"
   ]
  },
  {
   "cell_type": "code",
   "execution_count": 18,
   "metadata": {},
   "outputs": [
    {
     "name": "stdout",
     "output_type": "stream",
     "text": [
      "Epoch: 0 Loss D.: 0.6537545919418335\n",
      "Epoch: 0 Loss G.: 0.7688683271408081\n",
      "Epoch: 10 Loss D.: 0.5381139516830444\n",
      "Epoch: 10 Loss G.: 1.0804656744003296\n",
      "Epoch: 20 Loss D.: 0.6735671758651733\n",
      "Epoch: 20 Loss G.: 0.8046658635139465\n",
      "Epoch: 30 Loss D.: 0.5822659730911255\n",
      "Epoch: 30 Loss G.: 1.0427179336547852\n",
      "Epoch: 40 Loss D.: 0.6192072629928589\n",
      "Epoch: 40 Loss G.: 1.4159266948699951\n",
      "Epoch: 50 Loss D.: 0.688879668712616\n",
      "Epoch: 50 Loss G.: 1.104803442955017\n",
      "Epoch: 60 Loss D.: 0.605127215385437\n",
      "Epoch: 60 Loss G.: 1.1255548000335693\n",
      "Epoch: 70 Loss D.: 0.6642903685569763\n",
      "Epoch: 70 Loss G.: 1.0492172241210938\n",
      "Epoch: 80 Loss D.: 0.6322795748710632\n",
      "Epoch: 80 Loss G.: 1.0416184663772583\n",
      "Epoch: 90 Loss D.: 0.7004666328430176\n",
      "Epoch: 90 Loss G.: 0.7529876828193665\n",
      "Epoch: 100 Loss D.: 0.6463143825531006\n",
      "Epoch: 100 Loss G.: 0.8820797204971313\n",
      "Epoch: 110 Loss D.: 0.6230667233467102\n",
      "Epoch: 110 Loss G.: 0.8522183895111084\n",
      "Epoch: 120 Loss D.: 0.6533628702163696\n",
      "Epoch: 120 Loss G.: 0.8412818908691406\n",
      "Epoch: 130 Loss D.: 0.6625832915306091\n",
      "Epoch: 130 Loss G.: 0.8232189416885376\n",
      "Epoch: 140 Loss D.: 0.6608228087425232\n",
      "Epoch: 140 Loss G.: 0.9448379278182983\n",
      "Epoch: 150 Loss D.: 0.658121645450592\n",
      "Epoch: 150 Loss G.: 0.6759937405586243\n",
      "Epoch: 160 Loss D.: 0.7097766399383545\n",
      "Epoch: 160 Loss G.: 0.8137989640235901\n",
      "Epoch: 170 Loss D.: 0.7323435544967651\n",
      "Epoch: 170 Loss G.: 0.7135283946990967\n",
      "Epoch: 180 Loss D.: 0.6771277189254761\n",
      "Epoch: 180 Loss G.: 0.683972179889679\n",
      "Epoch: 190 Loss D.: 0.6694055199623108\n",
      "Epoch: 190 Loss G.: 0.7121712565422058\n",
      "Epoch: 200 Loss D.: 0.6588084101676941\n",
      "Epoch: 200 Loss G.: 0.7450186014175415\n",
      "Epoch: 210 Loss D.: 0.6581721305847168\n",
      "Epoch: 210 Loss G.: 0.9198552370071411\n",
      "Epoch: 220 Loss D.: 0.6725746989250183\n",
      "Epoch: 220 Loss G.: 0.7379530668258667\n",
      "Epoch: 230 Loss D.: 0.6914312839508057\n",
      "Epoch: 230 Loss G.: 0.7599563598632812\n",
      "Epoch: 240 Loss D.: 0.6745461821556091\n",
      "Epoch: 240 Loss G.: 0.7288671731948853\n",
      "Epoch: 250 Loss D.: 0.6936880946159363\n",
      "Epoch: 250 Loss G.: 0.8630809187889099\n",
      "Epoch: 260 Loss D.: 0.6913918852806091\n",
      "Epoch: 260 Loss G.: 0.7580976486206055\n",
      "Epoch: 270 Loss D.: 0.6783617734909058\n",
      "Epoch: 270 Loss G.: 0.8587579727172852\n",
      "Epoch: 280 Loss D.: 0.6570850014686584\n",
      "Epoch: 280 Loss G.: 0.7329347133636475\n",
      "Epoch: 290 Loss D.: 0.7210338711738586\n",
      "Epoch: 290 Loss G.: 0.7285672426223755\n"
     ]
    }
   ],
   "source": [
    "epochs = 300\n",
    "loss = t.nn.BCELoss()\n",
    "\n",
    "for epoch in range(epochs):\n",
    "    for n, true_data in enumerate(train_loader):\n",
    "        \n",
    "        true_labels = t.ones((batch_size, 1))\n",
    "        fake_samples = t.randn((batch_size, 2))\n",
    "        gen_data = generator(fake_samples)\n",
    "        gen_labels = t.zeros((batch_size, 1))\n",
    "        \n",
    "        train_data = t.cat(\n",
    "            (\n",
    "                true_data, \n",
    "                gen_data\n",
    "            )\n",
    "        )\n",
    "        train_labels = t.cat(\n",
    "            (\n",
    "                true_labels, \n",
    "                gen_labels\n",
    "            )\n",
    "        )\n",
    "\n",
    "        # Training discriminator\n",
    "        discriminator.zero_grad()\n",
    "        dis_output = discriminator(train_data)\n",
    "        dis_loss = loss(dis_output, train_labels)\n",
    "        dis_loss.backward()\n",
    "        d_optimizer.step()\n",
    "\n",
    "        # One more time data from fake distriution\n",
    "        fake_samples = t.randn((batch_size, 2))\n",
    "\n",
    "        # Training generator\n",
    "        generator.zero_grad()\n",
    "        gen_data = generator(fake_samples)\n",
    "        dis_gen_output= discriminator(gen_data)\n",
    "        gen_loss = loss(dis_gen_output, true_labels)\n",
    "        gen_loss.backward()\n",
    "        g_optimizer.step()\n",
    "\n",
    "        # Output value of loss function\n",
    "        if epoch % 10 == 0 and n==batch_size-2:\n",
    "            print(f\"Epoch: {epoch} Loss D.: {dis_loss}\")\n",
    "            print(f\"Epoch: {epoch} Loss G.: {gen_loss}\")"
   ]
  },
  {
   "cell_type": "code",
   "execution_count": 19,
   "metadata": {},
   "outputs": [
    {
     "data": {
      "text/plain": [
       "<matplotlib.collections.PathCollection at 0x7f3e0869b310>"
      ]
     },
     "execution_count": 19,
     "metadata": {},
     "output_type": "execute_result"
    },
    {
     "data": {
      "image/png": "[encoded data removed]",
      "text/plain": [
       "<Figure size 432x288 with 1 Axes>"
      ]
     },
     "metadata": {
      "needs_background": "light"
     },
     "output_type": "display_data"
    }
   ],
   "source": [
    "fake_samples = t.randn(100, 2)\n",
    "generated_samples = generator(fake_samples)\n",
    "generated_samples = generated_samples.detach()\n",
    "plt.scatter(generated_samples[:, 0], generated_samples[:, 1])"
   ]
  },
  {
   "cell_type": "markdown",
   "metadata": {},
   "source": [
    "### Problem 2"
   ]
  },
  {
   "cell_type": "markdown",
   "metadata": {},
   "source": [
    "Use another sampling distribution. One that is not concentrated on a line e.g. an ellipse. "
   ]
  },
  {
   "cell_type": "code",
   "execution_count": 20,
   "metadata": {},
   "outputs": [],
   "source": [
    "class Discriminator(t.nn.Module):\n",
    "    def __init__(self, hidden_dim):\n",
    "        super(Discriminator, self).__init__()\n",
    "        self.model = t.nn.Sequential(\n",
    "            t.nn.Linear(2, hidden_dim),\n",
    "            t.nn.ReLU(),\n",
    "            t.nn.Dropout(0.3),\n",
    "            t.nn.Linear(hidden_dim, hidden_dim//2),\n",
    "            t.nn.ReLU(),\n",
    "            t.nn.Dropout(0.3),\n",
    "            t.nn.Linear(hidden_dim//2, hidden_dim//4),\n",
    "            t.nn.ReLU(),\n",
    "            t.nn.Dropout(0.3),\n",
    "            t.nn.Linear(hidden_dim//4, 1),\n",
    "            t.nn.Sigmoid()\n",
    "         )\n",
    "    \n",
    "    def forward(self, x):\n",
    "        return self.model(x)\n",
    "        \n",
    "            \n",
    "\n",
    "discriminator = Discriminator(512)"
   ]
  },
  {
   "cell_type": "code",
   "execution_count": 21,
   "metadata": {},
   "outputs": [],
   "source": [
    "class Generator(t.nn.Module):\n",
    "    def __init__(self, hidden_dim):\n",
    "        super(Generator, self).__init__()\n",
    "        self.model = t.nn.Sequential(\n",
    "            t.nn.Linear(2, hidden_dim),\n",
    "            t.nn.ReLU(),\n",
    "            t.nn.Linear(hidden_dim, hidden_dim*2),\n",
    "            t.nn.ReLU(),\n",
    "            t.nn.Linear(hidden_dim*2, 2)\n",
    "        )\n",
    "\n",
    "    def forward(self, x):\n",
    "        return self.model(x)\n",
    "\n",
    "generator = Generator(128)"
   ]
  },
  {
   "cell_type": "code",
   "execution_count": 22,
   "metadata": {},
   "outputs": [],
   "source": [
    "d_optimizer = t.optim.Adam(discriminator.parameters(), lr=0.0002)\n",
    "g_optimizer = t.optim.Adam(generator.parameters(), lr=0.0002)"
   ]
  },
  {
   "cell_type": "code",
   "execution_count": 25,
   "metadata": {},
   "outputs": [
    {
     "data": {
      "image/png": "[encoded data removed]",
      "text/plain": [
       "<Figure size 432x288 with 1 Axes>"
      ]
     },
     "metadata": {
      "needs_background": "light"
     },
     "output_type": "display_data"
    }
   ],
   "source": [
    "angle = np.random.uniform(-np.pi,np.pi,(1000,1)).astype('float32')\n",
    "data = np.concatenate(\n",
    "    (\n",
    "        np.cos(angle)*np.exp(-np.tan(angle/3.5)), \n",
    "        np.sin(angle)*np.exp(-np.sin(angle/3.5))\n",
    "    ),\n",
    "    axis=1\n",
    ")\n",
    "plt.scatter(data[:,0], data[:,1])\n",
    "plt.show()"
   ]
  },
  {
   "cell_type": "code",
   "execution_count": 26,
   "metadata": {},
   "outputs": [],
   "source": [
    "batch_size = 32\n",
    "train_loader = t.utils.data.DataLoader(\n",
    "    dataset=data, \n",
    "    batch_size=batch_size, \n",
    "    drop_last=True,\n",
    "    shuffle=True\n",
    ")"
   ]
  },
  {
   "cell_type": "code",
   "execution_count": 27,
   "metadata": {},
   "outputs": [
    {
     "name": "stdout",
     "output_type": "stream",
     "text": [
      "Epoch: 0 Loss D.: 0.5846243500709534\n",
      "Epoch: 0 Loss G.: 0.7940182089805603\n",
      "Epoch: 10 Loss D.: 0.7843826413154602\n",
      "Epoch: 10 Loss G.: 0.9435797333717346\n",
      "Epoch: 20 Loss D.: 0.6644806861877441\n",
      "Epoch: 20 Loss G.: 0.7508202195167542\n",
      "Epoch: 30 Loss D.: 0.6022336483001709\n",
      "Epoch: 30 Loss G.: 0.8567458987236023\n",
      "Epoch: 40 Loss D.: 0.6595537662506104\n",
      "Epoch: 40 Loss G.: 0.9265908002853394\n",
      "Epoch: 50 Loss D.: 0.6805157661437988\n",
      "Epoch: 50 Loss G.: 0.7731356620788574\n",
      "Epoch: 60 Loss D.: 0.6555159091949463\n",
      "Epoch: 60 Loss G.: 0.6887636780738831\n",
      "Epoch: 70 Loss D.: 0.6587364077568054\n",
      "Epoch: 70 Loss G.: 0.7007387280464172\n",
      "Epoch: 80 Loss D.: 0.6789387464523315\n",
      "Epoch: 80 Loss G.: 0.7431467771530151\n",
      "Epoch: 90 Loss D.: 0.7233270406723022\n",
      "Epoch: 90 Loss G.: 0.6632585525512695\n",
      "Epoch: 100 Loss D.: 0.6954920887947083\n",
      "Epoch: 100 Loss G.: 0.7162776589393616\n",
      "Epoch: 110 Loss D.: 0.6787104606628418\n",
      "Epoch: 110 Loss G.: 0.6853727698326111\n",
      "Epoch: 120 Loss D.: 0.6940711140632629\n",
      "Epoch: 120 Loss G.: 0.709754467010498\n",
      "Epoch: 130 Loss D.: 0.6923804879188538\n",
      "Epoch: 130 Loss G.: 0.7524893283843994\n",
      "Epoch: 140 Loss D.: 0.6915194988250732\n",
      "Epoch: 140 Loss G.: 0.6925079226493835\n",
      "Epoch: 150 Loss D.: 0.7021433711051941\n",
      "Epoch: 150 Loss G.: 0.6895667314529419\n",
      "Epoch: 160 Loss D.: 0.6898980140686035\n",
      "Epoch: 160 Loss G.: 0.7073699831962585\n",
      "Epoch: 170 Loss D.: 0.6892379522323608\n",
      "Epoch: 170 Loss G.: 0.6902462840080261\n",
      "Epoch: 180 Loss D.: 0.6906675696372986\n",
      "Epoch: 180 Loss G.: 0.7038174867630005\n",
      "Epoch: 190 Loss D.: 0.6835350394248962\n",
      "Epoch: 190 Loss G.: 0.6989158987998962\n",
      "Epoch: 200 Loss D.: 0.6853806972503662\n",
      "Epoch: 200 Loss G.: 0.7051234841346741\n",
      "Epoch: 210 Loss D.: 0.6899461150169373\n",
      "Epoch: 210 Loss G.: 0.6967633962631226\n",
      "Epoch: 220 Loss D.: 0.6956435441970825\n",
      "Epoch: 220 Loss G.: 0.6910961270332336\n",
      "Epoch: 230 Loss D.: 0.6943652629852295\n",
      "Epoch: 230 Loss G.: 0.6818375587463379\n",
      "Epoch: 240 Loss D.: 0.6979501843452454\n",
      "Epoch: 240 Loss G.: 0.699214518070221\n",
      "Epoch: 250 Loss D.: 0.6939043998718262\n",
      "Epoch: 250 Loss G.: 0.698695957660675\n",
      "Epoch: 260 Loss D.: 0.6870310306549072\n",
      "Epoch: 260 Loss G.: 0.6969127058982849\n",
      "Epoch: 270 Loss D.: 0.6923474669456482\n",
      "Epoch: 270 Loss G.: 0.6907942295074463\n",
      "Epoch: 280 Loss D.: 0.6930637359619141\n",
      "Epoch: 280 Loss G.: 0.6886013746261597\n",
      "Epoch: 290 Loss D.: 0.694413423538208\n",
      "Epoch: 290 Loss G.: 0.6982287764549255\n"
     ]
    }
   ],
   "source": [
    "epochs = 300\n",
    "loss = t.nn.BCELoss()\n",
    "\n",
    "for epoch in range(epochs):\n",
    "    for n, true_data in enumerate(train_loader):\n",
    "        \n",
    "        true_labels = t.ones((batch_size, 1))\n",
    "        fake_samples = t.randn((batch_size, 2))\n",
    "        gen_data = generator(fake_samples)\n",
    "        gen_labels = t.zeros((batch_size, 1))\n",
    "        \n",
    "        train_data = t.cat(\n",
    "            (\n",
    "                true_data, \n",
    "                gen_data\n",
    "            )\n",
    "        )\n",
    "        train_labels = t.cat(\n",
    "            (\n",
    "                true_labels, \n",
    "                gen_labels\n",
    "            )\n",
    "        )\n",
    "\n",
    "        # Training discriminator\n",
    "        discriminator.zero_grad()\n",
    "        dis_output = discriminator(train_data)\n",
    "        dis_loss = loss(dis_output, train_labels)\n",
    "        dis_loss.backward()\n",
    "        d_optimizer.step()\n",
    "\n",
    "        # One more time data from fake distriution\n",
    "        fake_samples = t.randn((batch_size, 2))\n",
    "\n",
    "        # Training generator\n",
    "        generator.zero_grad()\n",
    "        gen_data = generator(fake_samples)\n",
    "        dis_gen_output= discriminator(gen_data)\n",
    "        gen_loss = loss(dis_gen_output, true_labels)\n",
    "        gen_loss.backward()\n",
    "        g_optimizer.step()\n",
    "\n",
    "        # Output value of loss function\n",
    "        if epoch % 10 == 0 and n==batch_size-2:\n",
    "            print(f\"Epoch: {epoch} Loss D.: {dis_loss}\")\n",
    "            print(f\"Epoch: {epoch} Loss G.: {gen_loss}\")"
   ]
  },
  {
   "cell_type": "code",
   "execution_count": 28,
   "metadata": {},
   "outputs": [
    {
     "data": {
      "text/plain": [
       "<matplotlib.collections.PathCollection at 0x7f3e080ce0a0>"
      ]
     },
     "execution_count": 28,
     "metadata": {},
     "output_type": "execute_result"
    },
    {
     "data": {
      "image/png": "[encoded data removed]",
      "text/plain": [
       "<Figure size 432x288 with 1 Axes>"
      ]
     },
     "metadata": {
      "needs_background": "light"
     },
     "output_type": "display_data"
    }
   ],
   "source": [
    "fake_samples = t.randn(100, 2)\n",
    "generated_samples = generator(fake_samples)\n",
    "generated_samples = generated_samples.detach()\n",
    "plt.scatter(generated_samples[:, 0], generated_samples[:, 1])"
   ]
  },
  {
   "cell_type": "code",
   "execution_count": 29,
   "metadata": {},
   "outputs": [],
   "source": [
    "t.save(generator, './generator_Fedoriuk_Vladyslav.pt')"
   ]
  },
  {
   "cell_type": "code",
   "execution_count": null,
   "metadata": {},
   "outputs": [],
   "source": []
  }
 ],
 "metadata": {
  "kernelspec": {
   "display_name": "Python 3",
   "language": "python",
   "name": "python3"
  },
  "language_info": {
   "codemirror_mode": {
    "name": "ipython",
    "version": 3
   },
   "file_extension": ".py",
   "mimetype": "text/x-python",
   "name": "python",
   "nbconvert_exporter": "python",
   "pygments_lexer": "ipython3",
   "version": "3.8.5"
  }
 },
 "nbformat": 4,
 "nbformat_minor": 2
}
